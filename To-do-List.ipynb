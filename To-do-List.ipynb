{
 "cells": [
  {
   "cell_type": "code",
   "execution_count": null,
   "id": "84456423-2077-4d4f-b98e-3095da2d4579",
   "metadata": {},
   "outputs": [
    {
     "name": "stdout",
     "output_type": "stream",
     "text": [
      "\n",
      "--- To-Do List Menu ---\n",
      "1. Add a Task\n",
      "2. View Tasks\n",
      "3. Remove a Task\n",
      "4. Update Task Status\n",
      "5. Exit\n"
     ]
    },
    {
     "name": "stdin",
     "output_type": "stream",
     "text": [
      "Choose an option (1-5):  1\n",
      "Enter the task you want to add:  Early morning go for run\n"
     ]
    },
    {
     "name": "stdout",
     "output_type": "stream",
     "text": [
      "Task \"Early morning go for run\" added successfully!\n",
      "\n",
      "--- To-Do List Menu ---\n",
      "1. Add a Task\n",
      "2. View Tasks\n",
      "3. Remove a Task\n",
      "4. Update Task Status\n",
      "5. Exit\n"
     ]
    },
    {
     "name": "stdin",
     "output_type": "stream",
     "text": [
      "Choose an option (1-5):  2\n"
     ]
    },
    {
     "name": "stdout",
     "output_type": "stream",
     "text": [
      "\n",
      "To-Do List:\n",
      "1. Early morning go for run - pending\n",
      "\n",
      "\n",
      "--- To-Do List Menu ---\n",
      "1. Add a Task\n",
      "2. View Tasks\n",
      "3. Remove a Task\n",
      "4. Update Task Status\n",
      "5. Exit\n"
     ]
    },
    {
     "name": "stdin",
     "output_type": "stream",
     "text": [
      "Choose an option (1-5):  4\n"
     ]
    },
    {
     "name": "stdout",
     "output_type": "stream",
     "text": [
      "\n",
      "To-Do List:\n",
      "1. Early morning go for run - pending\n",
      "\n"
     ]
    },
    {
     "name": "stdin",
     "output_type": "stream",
     "text": [
      "Enter the task number to update status:  1 running/excerise\n"
     ]
    },
    {
     "name": "stdout",
     "output_type": "stream",
     "text": [
      "Invalid task number.\n",
      "\n",
      "--- To-Do List Menu ---\n",
      "1. Add a Task\n",
      "2. View Tasks\n",
      "3. Remove a Task\n",
      "4. Update Task Status\n",
      "5. Exit\n"
     ]
    },
    {
     "name": "stdin",
     "output_type": "stream",
     "text": [
      "Choose an option (1-5):  1\n",
      "Enter the task you want to add:  Read atleast 4 hours in a day\n"
     ]
    },
    {
     "name": "stdout",
     "output_type": "stream",
     "text": [
      "Task \"Read atleast 4 hours in a day\" added successfully!\n",
      "\n",
      "--- To-Do List Menu ---\n",
      "1. Add a Task\n",
      "2. View Tasks\n",
      "3. Remove a Task\n",
      "4. Update Task Status\n",
      "5. Exit\n"
     ]
    },
    {
     "name": "stdin",
     "output_type": "stream",
     "text": [
      "Choose an option (1-5):  1\n",
      "Enter the task you want to add:  Learn any two new things in a day\n"
     ]
    },
    {
     "name": "stdout",
     "output_type": "stream",
     "text": [
      "Task \"Learn any two new things in a day\" added successfully!\n",
      "\n",
      "--- To-Do List Menu ---\n",
      "1. Add a Task\n",
      "2. View Tasks\n",
      "3. Remove a Task\n",
      "4. Update Task Status\n",
      "5. Exit\n"
     ]
    },
    {
     "name": "stdin",
     "output_type": "stream",
     "text": [
      "Choose an option (1-5):  2\n"
     ]
    },
    {
     "name": "stdout",
     "output_type": "stream",
     "text": [
      "\n",
      "To-Do List:\n",
      "1. Early morning go for run - pending\n",
      "2. Read atleast 4 hours in a day - pending\n",
      "3. Learn any two new things in a day - pending\n",
      "\n",
      "\n",
      "--- To-Do List Menu ---\n",
      "1. Add a Task\n",
      "2. View Tasks\n",
      "3. Remove a Task\n",
      "4. Update Task Status\n",
      "5. Exit\n"
     ]
    },
    {
     "name": "stdin",
     "output_type": "stream",
     "text": [
      "Choose an option (1-5):  2\n"
     ]
    },
    {
     "name": "stdout",
     "output_type": "stream",
     "text": [
      "\n",
      "To-Do List:\n",
      "1. Early morning go for run - pending\n",
      "2. Read atleast 4 hours in a day - pending\n",
      "3. Learn any two new things in a day - pending\n",
      "\n",
      "\n",
      "--- To-Do List Menu ---\n",
      "1. Add a Task\n",
      "2. View Tasks\n",
      "3. Remove a Task\n",
      "4. Update Task Status\n",
      "5. Exit\n"
     ]
    },
    {
     "name": "stdin",
     "output_type": "stream",
     "text": [
      "Choose an option (1-5):  \n"
     ]
    },
    {
     "name": "stdout",
     "output_type": "stream",
     "text": [
      "Invalid choice. Please select a valid option.\n",
      "\n",
      "--- To-Do List Menu ---\n",
      "1. Add a Task\n",
      "2. View Tasks\n",
      "3. Remove a Task\n",
      "4. Update Task Status\n",
      "5. Exit\n"
     ]
    },
    {
     "name": "stdin",
     "output_type": "stream",
     "text": [
      "Choose an option (1-5):  2\n"
     ]
    },
    {
     "name": "stdout",
     "output_type": "stream",
     "text": [
      "\n",
      "To-Do List:\n",
      "1. Early morning go for run - pending\n",
      "2. Read atleast 4 hours in a day - pending\n",
      "3. Learn any two new things in a day - pending\n",
      "\n",
      "\n",
      "--- To-Do List Menu ---\n",
      "1. Add a Task\n",
      "2. View Tasks\n",
      "3. Remove a Task\n",
      "4. Update Task Status\n",
      "5. Exit\n"
     ]
    },
    {
     "name": "stdin",
     "output_type": "stream",
     "text": [
      "Choose an option (1-5):  1\n",
      "Enter the task you want to add:  sleep 8 hours in a day\n"
     ]
    },
    {
     "name": "stdout",
     "output_type": "stream",
     "text": [
      "Task \"sleep 8 hours in a day\" added successfully!\n",
      "\n",
      "--- To-Do List Menu ---\n",
      "1. Add a Task\n",
      "2. View Tasks\n",
      "3. Remove a Task\n",
      "4. Update Task Status\n",
      "5. Exit\n"
     ]
    },
    {
     "name": "stdin",
     "output_type": "stream",
     "text": [
      "Choose an option (1-5):  1\n",
      "Enter the task you want to add:  wake up 5 '0' clock in morning\n"
     ]
    },
    {
     "name": "stdout",
     "output_type": "stream",
     "text": [
      "Task \"wake up 5 '0' clock in morning\" added successfully!\n",
      "\n",
      "--- To-Do List Menu ---\n",
      "1. Add a Task\n",
      "2. View Tasks\n",
      "3. Remove a Task\n",
      "4. Update Task Status\n",
      "5. Exit\n"
     ]
    },
    {
     "name": "stdin",
     "output_type": "stream",
     "text": [
      "Choose an option (1-5):  2\n"
     ]
    },
    {
     "name": "stdout",
     "output_type": "stream",
     "text": [
      "\n",
      "To-Do List:\n",
      "1. Early morning go for run - pending\n",
      "2. Read atleast 4 hours in a day - pending\n",
      "3. Learn any two new things in a day - pending\n",
      "4. sleep 8 hours in a day - pending\n",
      "5. wake up 5 '0' clock in morning - pending\n",
      "\n",
      "\n",
      "--- To-Do List Menu ---\n",
      "1. Add a Task\n",
      "2. View Tasks\n",
      "3. Remove a Task\n",
      "4. Update Task Status\n",
      "5. Exit\n"
     ]
    }
   ],
   "source": [
    "# To-Do List Application\n",
    "\n",
    "# Global list to store tasks\n",
    "tasks = []\n",
    "\n",
    "# Function to add a task to the list\n",
    "def add_task():\n",
    "    task = input(\"Enter the task you want to add: \")\n",
    "    tasks.append({\"task\": task, \"status\": \"pending\"})\n",
    "    print(f'Task \"{task}\" added successfully!')\n",
    "\n",
    "# Function to display all tasks\n",
    "def view_tasks():\n",
    "    if len(tasks) == 0:\n",
    "        print(\"No tasks in the list.\")\n",
    "    else:\n",
    "        print(\"\\nTo-Do List:\")\n",
    "        for idx, task in enumerate(tasks):\n",
    "            print(f\"{idx + 1}. {task['task']} - {task['status']}\")\n",
    "        print()\n",
    "\n",
    "# Function to remove a task by index or task name\n",
    "def remove_task():\n",
    "    if len(tasks) == 0:\n",
    "        print(\"No tasks to remove.\")\n",
    "        return\n",
    "    \n",
    "    view_tasks()\n",
    "    try:\n",
    "        option = input(\"Enter the task number or task name to remove: \").strip()\n",
    "        if option.isdigit():\n",
    "            task_index = int(option) - 1\n",
    "            removed_task = tasks.pop(task_index)\n",
    "        else:\n",
    "            task_names = [task['task'] for task in tasks]\n",
    "            task_index = task_names.index(option)\n",
    "            removed_task = tasks.pop(task_index)\n",
    "\n",
    "        print(f'Task \"{removed_task[\"task\"]}\" removed successfully!')\n",
    "    except (ValueError, IndexError):\n",
    "        print(\"Invalid task name or index.\")\n",
    "\n",
    "# Function to mark a task as completed or pending\n",
    "def update_task_status():\n",
    "    if len(tasks) == 0:\n",
    "        print(\"No tasks to update.\")\n",
    "        return\n",
    "\n",
    "    view_tasks()\n",
    "    try:\n",
    "        task_index = int(input(\"Enter the task number to update status: \")) - 1\n",
    "        current_status = tasks[task_index]['status']\n",
    "        new_status = \"completed\" if current_status == \"pending\" else \"pending\"\n",
    "        tasks[task_index]['status'] = new_status\n",
    "        print(f'Task \"{tasks[task_index][\"task\"]}\" marked as {new_status}.')\n",
    "    except (ValueError, IndexError):\n",
    "        print(\"Invalid task number.\")\n",
    "\n",
    "# Main function to keep the program running until the user exits\n",
    "def main():\n",
    "    while True:\n",
    "        print(\"\\n--- To-Do List Menu ---\")\n",
    "        print(\"1. Add a Task\")\n",
    "        print(\"2. View Tasks\")\n",
    "        print(\"3. Remove a Task\")\n",
    "        print(\"4. Update Task Status\")\n",
    "        print(\"5. Exit\")\n",
    "        \n",
    "        choice = input(\"Choose an option (1-5): \").strip()\n",
    "        \n",
    "        if choice == '1':\n",
    "            add_task()\n",
    "        elif choice == '2':\n",
    "            view_tasks()\n",
    "        elif choice == '3':\n",
    "            remove_task()\n",
    "        elif choice == '4':\n",
    "            update_task_status()\n",
    "        elif choice == '5':\n",
    "            print(\"Exiting the program. Goodbye!\")\n",
    "            break\n",
    "        else:\n",
    "            print(\"Invalid choice. Please select a valid option.\")\n",
    "\n",
    "if __name__ == \"__main__\":\n",
    "    main()\n"
   ]
  },
  {
   "cell_type": "code",
   "execution_count": null,
   "id": "febf6e30-5a1c-4419-84d2-fe5f0e74ecfc",
   "metadata": {},
   "outputs": [],
   "source": []
  }
 ],
 "metadata": {
  "kernelspec": {
   "display_name": "Python 3 (ipykernel)",
   "language": "python",
   "name": "python3"
  },
  "language_info": {
   "codemirror_mode": {
    "name": "ipython",
    "version": 3
   },
   "file_extension": ".py",
   "mimetype": "text/x-python",
   "name": "python",
   "nbconvert_exporter": "python",
   "pygments_lexer": "ipython3",
   "version": "3.12.4"
  }
 },
 "nbformat": 4,
 "nbformat_minor": 5
}
